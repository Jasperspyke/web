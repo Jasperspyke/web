{
 "cells": [
  {
   "cell_type": "code",
   "execution_count": 1,
   "metadata": {
    "collapsed": true
   },
   "outputs": [],
   "source": [
    "import pandas as pd"
   ]
  },
  {
   "cell_type": "code",
   "execution_count": 5,
   "outputs": [],
   "source": [
    "df = pd.read_csv('databases/Entitled - Sheet1.csv')"
   ],
   "metadata": {
    "collapsed": false
   }
  },
  {
   "cell_type": "code",
   "execution_count": 18,
   "outputs": [],
   "source": [
    "only_barbie = df['keyword'].str.contains('Barbie')"
   ],
   "metadata": {
    "collapsed": false
   }
  },
  {
   "cell_type": "code",
   "execution_count": 21,
   "outputs": [
    {
     "data": {
      "text/plain": "                                             article               keyword\n0  https://medium.com/fan-fare/the-barbenheimer-e...   Barbie, Oppenheimer\n1  https://medium.com/fan-fare/why-i-love-barbenh...  Barbie,  Oppenheimer\n2  https://medium.com/cinemania/why-barbenheimer-...   Barbie, Oppenheimer\n5  https://medium.com/fan-fare/barbie-is-pointed-...                Barbie",
      "text/html": "<div>\n<style scoped>\n    .dataframe tbody tr th:only-of-type {\n        vertical-align: middle;\n    }\n\n    .dataframe tbody tr th {\n        vertical-align: top;\n    }\n\n    .dataframe thead th {\n        text-align: right;\n    }\n</style>\n<table border=\"1\" class=\"dataframe\">\n  <thead>\n    <tr style=\"text-align: right;\">\n      <th></th>\n      <th>article</th>\n      <th>keyword</th>\n    </tr>\n  </thead>\n  <tbody>\n    <tr>\n      <th>0</th>\n      <td>https://medium.com/fan-fare/the-barbenheimer-e...</td>\n      <td>Barbie, Oppenheimer</td>\n    </tr>\n    <tr>\n      <th>1</th>\n      <td>https://medium.com/fan-fare/why-i-love-barbenh...</td>\n      <td>Barbie,  Oppenheimer</td>\n    </tr>\n    <tr>\n      <th>2</th>\n      <td>https://medium.com/cinemania/why-barbenheimer-...</td>\n      <td>Barbie, Oppenheimer</td>\n    </tr>\n    <tr>\n      <th>5</th>\n      <td>https://medium.com/fan-fare/barbie-is-pointed-...</td>\n      <td>Barbie</td>\n    </tr>\n  </tbody>\n</table>\n</div>"
     },
     "execution_count": 21,
     "metadata": {},
     "output_type": "execute_result"
    }
   ],
   "source": [
    "df[only_barbie]"
   ],
   "metadata": {
    "collapsed": false
   }
  },
  {
   "cell_type": "code",
   "execution_count": 23,
   "outputs": [
    {
     "data": {
      "text/plain": "                                             article               keyword\n0  https://medium.com/fan-fare/the-barbenheimer-e...   Barbie, Oppenheimer\n1  https://medium.com/fan-fare/why-i-love-barbenh...  Barbie,  Oppenheimer\n2  https://medium.com/cinemania/why-barbenheimer-...   Barbie, Oppenheimer\n3  https://medium.com/illumination/an-honest-revi...           Oppenheimer\n4  https://ewarren61.medium.com/oppenheimer-nolan...           Oppenheimer",
      "text/html": "<div>\n<style scoped>\n    .dataframe tbody tr th:only-of-type {\n        vertical-align: middle;\n    }\n\n    .dataframe tbody tr th {\n        vertical-align: top;\n    }\n\n    .dataframe thead th {\n        text-align: right;\n    }\n</style>\n<table border=\"1\" class=\"dataframe\">\n  <thead>\n    <tr style=\"text-align: right;\">\n      <th></th>\n      <th>article</th>\n      <th>keyword</th>\n    </tr>\n  </thead>\n  <tbody>\n    <tr>\n      <th>0</th>\n      <td>https://medium.com/fan-fare/the-barbenheimer-e...</td>\n      <td>Barbie, Oppenheimer</td>\n    </tr>\n    <tr>\n      <th>1</th>\n      <td>https://medium.com/fan-fare/why-i-love-barbenh...</td>\n      <td>Barbie,  Oppenheimer</td>\n    </tr>\n    <tr>\n      <th>2</th>\n      <td>https://medium.com/cinemania/why-barbenheimer-...</td>\n      <td>Barbie, Oppenheimer</td>\n    </tr>\n    <tr>\n      <th>3</th>\n      <td>https://medium.com/illumination/an-honest-revi...</td>\n      <td>Oppenheimer</td>\n    </tr>\n    <tr>\n      <th>4</th>\n      <td>https://ewarren61.medium.com/oppenheimer-nolan...</td>\n      <td>Oppenheimer</td>\n    </tr>\n  </tbody>\n</table>\n</div>"
     },
     "execution_count": 23,
     "metadata": {},
     "output_type": "execute_result"
    }
   ],
   "source": [
    "def filter_by_keyword(df, keyword):\n",
    "    return df[df['keyword'].str.contains(keyword)]\n",
    "\n",
    "filter_by_keyword(df, 'Oppenheimer')"
   ],
   "metadata": {
    "collapsed": false
   }
  },
  {
   "cell_type": "code",
   "execution_count": 24,
   "outputs": [],
   "source": [
    "result = df.to_html()"
   ],
   "metadata": {
    "collapsed": false
   }
  },
  {
   "cell_type": "code",
   "execution_count": 25,
   "outputs": [
    {
     "data": {
      "text/plain": "'<table border=\"1\" class=\"dataframe\">\\n  <thead>\\n    <tr style=\"text-align: right;\">\\n      <th></th>\\n      <th>article</th>\\n      <th>keyword</th>\\n    </tr>\\n  </thead>\\n  <tbody>\\n    <tr>\\n      <th>0</th>\\n      <td>https://medium.com/fan-fare/the-barbenheimer-effect-104f12a7850d</td>\\n      <td>Barbie, Oppenheimer</td>\\n    </tr>\\n    <tr>\\n      <th>1</th>\\n      <td>https://medium.com/fan-fare/why-i-love-barbenheimer-b798dbe8d07f</td>\\n      <td>Barbie,  Oppenheimer</td>\\n    </tr>\\n    <tr>\\n      <th>2</th>\\n      <td>https://medium.com/cinemania/why-barbenheimer-is-good-news-for-the-future-of-cinema-6a8cc0ecc38c</td>\\n      <td>Barbie, Oppenheimer</td>\\n    </tr>\\n    <tr>\\n      <th>3</th>\\n      <td>https://medium.com/illumination/an-honest-review-of-oppenheimer-d9ee18434aee</td>\\n      <td>Oppenheimer</td>\\n    </tr>\\n    <tr>\\n      <th>4</th>\\n      <td>https://ewarren61.medium.com/oppenheimer-nolan-just-keeps-getting-better-if-that-were-possible-8126f0539fdb</td>\\n      <td>Oppenheimer</td>\\n    </tr>\\n    <tr>\\n      <th>5</th>\\n      <td>https://medium.com/fan-fare/barbie-is-pointed-purposeful-and-wonderfully-silly-b42fd29a3ad7</td>\\n      <td>Barbie</td>\\n    </tr>\\n  </tbody>\\n</table>'"
     },
     "execution_count": 25,
     "metadata": {},
     "output_type": "execute_result"
    }
   ],
   "source": [
    "result"
   ],
   "metadata": {
    "collapsed": false
   }
  },
  {
   "cell_type": "code",
   "execution_count": null,
   "outputs": [],
   "source": [],
   "metadata": {
    "collapsed": false
   }
  }
 ],
 "metadata": {
  "kernelspec": {
   "display_name": "Python 3",
   "language": "python",
   "name": "python3"
  },
  "language_info": {
   "codemirror_mode": {
    "name": "ipython",
    "version": 2
   },
   "file_extension": ".py",
   "mimetype": "text/x-python",
   "name": "python",
   "nbconvert_exporter": "python",
   "pygments_lexer": "ipython2",
   "version": "2.7.6"
  }
 },
 "nbformat": 4,
 "nbformat_minor": 0
}
